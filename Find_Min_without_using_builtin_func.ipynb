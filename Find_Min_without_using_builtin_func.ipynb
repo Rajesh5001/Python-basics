{
  "nbformat": 4,
  "nbformat_minor": 0,
  "metadata": {
    "colab": {
      "provenance": [],
      "authorship_tag": "ABX9TyOohRJQRAeWwZQMBJH39itD",
      "include_colab_link": true
    },
    "kernelspec": {
      "name": "python3",
      "display_name": "Python 3"
    },
    "language_info": {
      "name": "python"
    }
  },
  "cells": [
    {
      "cell_type": "markdown",
      "metadata": {
        "id": "view-in-github",
        "colab_type": "text"
      },
      "source": [
        "<a href=\"https://colab.research.google.com/github/Rajesh5001/Python-basics/blob/main/Find_Min_without_using_builtin_func.ipynb\" target=\"_parent\"><img src=\"https://colab.research.google.com/assets/colab-badge.svg\" alt=\"Open In Colab\"/></a>"
      ]
    },
    {
      "cell_type": "code",
      "source": [
        "a=[14,6,9,4]\n",
        "t=a[0]\n",
        "for i in a:\n",
        "  if i<t:\n",
        "    t=i\n",
        "print(\"Minimum:\",t)\n"
      ],
      "metadata": {
        "colab": {
          "base_uri": "https://localhost:8080/"
        },
        "id": "1eT9ss_3e_mw",
        "outputId": "341a3e28-e75c-44aa-9452-e8a5032fe07f"
      },
      "execution_count": 12,
      "outputs": [
        {
          "output_type": "stream",
          "name": "stdout",
          "text": [
            "Minimum: 4\n"
          ]
        }
      ]
    }
  ]
}