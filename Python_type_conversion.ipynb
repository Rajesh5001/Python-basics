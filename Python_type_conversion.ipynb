{
  "nbformat": 4,
  "nbformat_minor": 0,
  "metadata": {
    "colab": {
      "provenance": []
    },
    "kernelspec": {
      "name": "python3",
      "display_name": "Python 3"
    },
    "language_info": {
      "name": "python"
    }
  },
  "cells": [
    {
      "cell_type": "code",
      "execution_count": 3,
      "metadata": {
        "id": "lq1U-H1RMgLQ"
      },
      "outputs": [],
      "source": [
        "num1 = 148 # variable object everything in python is an object\n",
        "\n",
        "num2= 3.14 # constant object"
      ]
    },
    {
      "cell_type": "code",
      "source": [
        "#\"#-is comment line\"\n",
        "#a =  int 90;\n"
      ],
      "metadata": {
        "id": "fnlYu-cENbs1"
      },
      "execution_count": 4,
      "outputs": []
    },
    {
      "cell_type": "code",
      "source": [
        "#That value Type\n",
        "type(num1)"
      ],
      "metadata": {
        "colab": {
          "base_uri": "https://localhost:8080/"
        },
        "id": "iPzop17cOgA1",
        "outputId": "99a3b308-8dcb-4fb5-d6de-97972a015ea6"
      },
      "execution_count": 7,
      "outputs": [
        {
          "output_type": "execute_result",
          "data": {
            "text/plain": [
              "int"
            ]
          },
          "metadata": {},
          "execution_count": 7
        }
      ]
    },
    {
      "cell_type": "code",
      "source": [
        "c = 1+5j #machinary data\n",
        "type(c)"
      ],
      "metadata": {
        "colab": {
          "base_uri": "https://localhost:8080/"
        },
        "id": "WARjOe9lOzoS",
        "outputId": "7cc9e782-fe7d-4eca-bd00-4f1cf25a795b"
      },
      "execution_count": 8,
      "outputs": [
        {
          "output_type": "execute_result",
          "data": {
            "text/plain": [
              "complex"
            ]
          },
          "metadata": {},
          "execution_count": 8
        }
      ]
    },
    {
      "cell_type": "code",
      "source": [
        "name = ' hel\"lo \"world '\n",
        "last = \"k\""
      ],
      "metadata": {
        "id": "OUHbUkbgPUM1"
      },
      "execution_count": 19,
      "outputs": []
    },
    {
      "cell_type": "code",
      "source": [
        "#9000 value consider String value Because enclosed ' 90000'\n",
        "y ='90000'\n",
        "type(y)"
      ],
      "metadata": {
        "colab": {
          "base_uri": "https://localhost:8080/"
        },
        "id": "sym1BxfDRLt9",
        "outputId": "71b187ce-0761-48cf-c6b9-df52ecb69362"
      },
      "execution_count": 16,
      "outputs": [
        {
          "output_type": "execute_result",
          "data": {
            "text/plain": [
              "str"
            ]
          },
          "metadata": {},
          "execution_count": 16
        }
      ]
    },
    {
      "cell_type": "code",
      "source": [
        "name"
      ],
      "metadata": {
        "colab": {
          "base_uri": "https://localhost:8080/",
          "height": 35
        },
        "id": "HFmXH44bPuFy",
        "outputId": "c5d1c10d-e2ce-463c-bd55-3fe99a68f7f3"
      },
      "execution_count": 25,
      "outputs": [
        {
          "output_type": "execute_result",
          "data": {
            "text/plain": [
              "' hel\"lo \"world '"
            ],
            "application/vnd.google.colaboratory.intrinsic+json": {
              "type": "string"
            }
          },
          "metadata": {},
          "execution_count": 25
        }
      ]
    },
    {
      "cell_type": "code",
      "source": [
        "com = True\n",
        "type(com)"
      ],
      "metadata": {
        "colab": {
          "base_uri": "https://localhost:8080/"
        },
        "id": "NFNDkIQ1RbI3",
        "outputId": "764b0999-9f05-42df-de52-d34746531943"
      },
      "execution_count": 26,
      "outputs": [
        {
          "output_type": "execute_result",
          "data": {
            "text/plain": [
              "bool"
            ]
          },
          "metadata": {},
          "execution_count": 26
        }
      ]
    },
    {
      "cell_type": "code",
      "source": [
        "g = 'true'\n"
      ],
      "metadata": {
        "id": "VMlhCPgrRqG0"
      },
      "execution_count": null,
      "outputs": []
    },
    {
      "cell_type": "code",
      "source": [
        "e = \"False\"\n",
        "type(e)"
      ],
      "metadata": {
        "colab": {
          "base_uri": "https://localhost:8080/"
        },
        "id": "rCrndouyR7bB",
        "outputId": "3e3371a3-d18b-4a14-9e57-9ee67ada7348"
      },
      "execution_count": null,
      "outputs": [
        {
          "output_type": "execute_result",
          "data": {
            "text/plain": [
              "str"
            ]
          },
          "metadata": {},
          "execution_count": 36
        }
      ]
    },
    {
      "cell_type": "code",
      "source": [
        "type(s)\n",
        "type(u)"
      ],
      "metadata": {
        "colab": {
          "base_uri": "https://localhost:8080/"
        },
        "id": "gRBD7CmYPY4Q",
        "outputId": "333a606a-9cbe-49fc-db43-2243c363302d"
      },
      "execution_count": 27,
      "outputs": [
        {
          "output_type": "execute_result",
          "data": {
            "text/plain": [
              "str"
            ]
          },
          "metadata": {},
          "execution_count": 27
        }
      ]
    },
    {
      "cell_type": "code",
      "source": [
        "# type conversion"
      ],
      "metadata": {
        "id": "iC0-xRLqSKEK"
      },
      "execution_count": null,
      "outputs": []
    },
    {
      "cell_type": "code",
      "source": [
        "v = str(num1) # int, decim,real,bool to string is possible"
      ],
      "metadata": {
        "id": "Wwl-okexSRrV"
      },
      "execution_count": 29,
      "outputs": []
    },
    {
      "cell_type": "code",
      "source": [
        "w = float(num2) #int to float possible\n"
      ],
      "metadata": {
        "id": "IRiPG9WtTDEn"
      },
      "execution_count": 30,
      "outputs": []
    },
    {
      "cell_type": "code",
      "source": [
        "e = int(com) # string to int, float ,boolean is not possible"
      ],
      "metadata": {
        "id": "KWXjWBScSmgc"
      },
      "execution_count": 31,
      "outputs": []
    },
    {
      "cell_type": "code",
      "source": [
        "v"
      ],
      "metadata": {
        "colab": {
          "base_uri": "https://localhost:8080/",
          "height": 35
        },
        "id": "l4aRediGScdg",
        "outputId": "68bda731-a13a-4d79-b4cd-d22061e6161d"
      },
      "execution_count": null,
      "outputs": [
        {
          "output_type": "execute_result",
          "data": {
            "text/plain": [
              "'787'"
            ],
            "application/vnd.google.colaboratory.intrinsic+json": {
              "type": "string"
            }
          },
          "metadata": {},
          "execution_count": 38
        }
      ]
    },
    {
      "cell_type": "code",
      "source": [
        "a"
      ],
      "metadata": {
        "colab": {
          "base_uri": "https://localhost:8080/"
        },
        "id": "ugpdAuzmSgca",
        "outputId": "73368a92-d626-48d3-f3c7-7cfcf7800065"
      },
      "execution_count": null,
      "outputs": [
        {
          "output_type": "execute_result",
          "data": {
            "text/plain": [
              "787"
            ]
          },
          "metadata": {},
          "execution_count": 39
        }
      ]
    }
  ]
}